{
 "cells": [
  {
   "cell_type": "markdown",
   "metadata": {},
   "source": [
    "#### Task 1 (5 points):"
   ]
  },
  {
   "cell_type": "markdown",
   "metadata": {},
   "source": [
    "##### go to https://github.com/miaow1988/SqueezeNet_v1.2 and download the 'symbol.json' and '.params' files (there is not a 'synset.txt' file! so don't use these lines, Hint: just comment these lines)."
   ]
  },
  {
   "cell_type": "markdown",
   "metadata": {},
   "source": [
    "* Install MXNet v1.5 (hint: create a new conda environmet with python 3, pip install mxnet==1.5.1) and follow the same steps of the lecture (part: *Using pre-trained models as feature extractors*). Find the flatten output layer and create a feature extractor (hint: It should be a numpy array of 1000 elements)."
   ]
  },
  {
   "cell_type": "code",
   "execution_count": 1,
   "metadata": {},
   "outputs": [
    {
     "name": "stdout",
     "output_type": "stream",
     "text": [
      "Requirement already satisfied: mxnet==1.5.1 in /opt/conda/lib/python3.7/site-packages (1.5.1)\n",
      "Requirement already satisfied: requests<3,>=2.20.0 in /opt/conda/lib/python3.7/site-packages (from mxnet==1.5.1) (2.23.0)\n",
      "Requirement already satisfied: graphviz<0.9.0,>=0.8.1 in /opt/conda/lib/python3.7/site-packages (from mxnet==1.5.1) (0.8.4)\n",
      "Requirement already satisfied: numpy<2.0.0,>1.16.0 in /opt/conda/lib/python3.7/site-packages (from mxnet==1.5.1) (1.18.2)\n",
      "Requirement already satisfied: certifi>=2017.4.17 in /opt/conda/lib/python3.7/site-packages (from requests<3,>=2.20.0->mxnet==1.5.1) (2019.11.28)\n",
      "Requirement already satisfied: idna<3,>=2.5 in /opt/conda/lib/python3.7/site-packages (from requests<3,>=2.20.0->mxnet==1.5.1) (2.9)\n",
      "Requirement already satisfied: chardet<4,>=3.0.2 in /opt/conda/lib/python3.7/site-packages (from requests<3,>=2.20.0->mxnet==1.5.1) (3.0.4)\n",
      "Requirement already satisfied: urllib3!=1.25.0,!=1.25.1,<1.26,>=1.21.1 in /opt/conda/lib/python3.7/site-packages (from requests<3,>=2.20.0->mxnet==1.5.1) (1.25.7)\n"
     ]
    }
   ],
   "source": [
    "! pip install mxnet==1.5.1"
   ]
  },
  {
   "cell_type": "code",
   "execution_count": 2,
   "metadata": {},
   "outputs": [
    {
     "name": "stdout",
     "output_type": "stream",
     "text": [
      "Requirement already satisfied: requests in /opt/conda/lib/python3.7/site-packages (2.23.0)\n",
      "Requirement already satisfied: matplotlib in /opt/conda/lib/python3.7/site-packages (3.2.1)\n",
      "Requirement already satisfied: opencv-python-headless in /opt/conda/lib/python3.7/site-packages (4.5.4.58)\n",
      "Requirement already satisfied: urllib3!=1.25.0,!=1.25.1,<1.26,>=1.21.1 in /opt/conda/lib/python3.7/site-packages (from requests) (1.25.7)\n",
      "Requirement already satisfied: idna<3,>=2.5 in /opt/conda/lib/python3.7/site-packages (from requests) (2.9)\n",
      "Requirement already satisfied: chardet<4,>=3.0.2 in /opt/conda/lib/python3.7/site-packages (from requests) (3.0.4)\n",
      "Requirement already satisfied: certifi>=2017.4.17 in /opt/conda/lib/python3.7/site-packages (from requests) (2019.11.28)\n",
      "Requirement already satisfied: cycler>=0.10 in /opt/conda/lib/python3.7/site-packages (from matplotlib) (0.10.0)\n",
      "Requirement already satisfied: python-dateutil>=2.1 in /opt/conda/lib/python3.7/site-packages (from matplotlib) (2.8.1)\n",
      "Requirement already satisfied: kiwisolver>=1.0.1 in /opt/conda/lib/python3.7/site-packages (from matplotlib) (1.2.0)\n",
      "Requirement already satisfied: numpy>=1.11 in /opt/conda/lib/python3.7/site-packages (from matplotlib) (1.18.2)\n",
      "Requirement already satisfied: pyparsing!=2.0.4,!=2.1.2,!=2.1.6,>=2.0.1 in /opt/conda/lib/python3.7/site-packages (from matplotlib) (2.4.7)\n",
      "Requirement already satisfied: six in /opt/conda/lib/python3.7/site-packages (from cycler>=0.10->matplotlib) (1.14.0)\n"
     ]
    }
   ],
   "source": [
    "! pip install requests matplotlib opencv-python-headless"
   ]
  },
  {
   "cell_type": "code",
   "execution_count": 3,
   "metadata": {},
   "outputs": [],
   "source": [
    "from __future__ import print_function"
   ]
  },
  {
   "cell_type": "code",
   "execution_count": 4,
   "metadata": {},
   "outputs": [],
   "source": [
    "import numpy as np\n",
    "import pandas as pd\n",
    "import matplotlib.pyplot as plt\n",
    "from IPython.display import display\n",
    "\n",
    "import mxnet as mx\n",
    "from mxnet import nd, autograd\n",
    "from mxnet import gluon\n",
    "\n",
    "ctx = mx.cpu()"
   ]
  },
  {
   "cell_type": "code",
   "execution_count": 5,
   "metadata": {},
   "outputs": [
    {
     "data": {
      "text/plain": [
       "['model-symbol.json', 'model-0000.params']"
      ]
     },
     "execution_count": 5,
     "metadata": {},
     "output_type": "execute_result"
    }
   ],
   "source": [
    "path='https://github.com/miaow1988/SqueezeNet_v1.2/'\n",
    "[mx.test_utils.download(path+'raw/master/model-symbol.json'),\n",
    " mx.test_utils.download(path+'raw/master/model-0000.params')]"
   ]
  },
  {
   "cell_type": "code",
   "execution_count": 6,
   "metadata": {},
   "outputs": [],
   "source": [
    "sym, arg_params, aux_params = mx.model.load_checkpoint('model', 0)\n",
    "mod = mx.mod.Module(symbol=sym, context=mx.cpu(), label_names=None)\n",
    "mod.bind(for_training=False, data_shapes=[('data', (1,3,224,224))], \n",
    "         label_shapes=mod._label_shapes)\n",
    "mod.set_params(arg_params, aux_params, allow_missing=True)"
   ]
  },
  {
   "cell_type": "code",
   "execution_count": 7,
   "metadata": {},
   "outputs": [],
   "source": [
    "%matplotlib inline\n",
    "import matplotlib.pyplot as plt\n",
    "import cv2\n",
    "import numpy as np\n",
    "# define a simple data batch\n",
    "from collections import namedtuple\n",
    "Batch = namedtuple('Batch', ['data'])\n",
    "\n",
    "def get_image(url, show=False):\n",
    "    # download and show the image\n",
    "    fname = mx.test_utils.download(url)\n",
    "    img = cv2.cvtColor(cv2.imread(fname), cv2.COLOR_BGR2RGB)\n",
    "    if img is None:\n",
    "         return None\n",
    "    if show:\n",
    "         plt.imshow(img)\n",
    "         plt.axis('off')\n",
    "    # convert into format (batch, RGB, width, height)\n",
    "    img = cv2.resize(img, (224, 224))\n",
    "    img = np.swapaxes(img, 0, 2)\n",
    "    img = np.swapaxes(img, 1, 2)\n",
    "    img = img[np.newaxis, :]\n",
    "    return img\n",
    "\n",
    "def predict(url):\n",
    "    img = get_image(url, show=True)\n",
    "    # compute the predict probabilities\n",
    "    mod.forward(Batch([mx.nd.array(img)]))\n",
    "    prob = mod.get_outputs()[0].asnumpy()\n",
    "    # print the top-5\n",
    "    prob = np.squeeze(prob)\n",
    "    a = np.argsort(prob)[::-1]\n",
    "    for i in a[0:5]:\n",
    "        print('probability=%f, class=%s' %(prob[i], labels[i]))"
   ]
  },
  {
   "cell_type": "code",
   "execution_count": 8,
   "metadata": {},
   "outputs": [
    {
     "data": {
      "text/plain": [
       "['fire9_concat_output',\n",
       " 'dropout0_output',\n",
       " 'conv10_conv_weight',\n",
       " 'conv10_conv_bias',\n",
       " 'conv10_conv_output',\n",
       " 'conv10_relu_output',\n",
       " 'pool10_output',\n",
       " 'flatten0_output',\n",
       " 'softmax_label',\n",
       " 'softmax_output']"
      ]
     },
     "execution_count": 8,
     "metadata": {},
     "output_type": "execute_result"
    }
   ],
   "source": [
    "# list the last 10 layers\n",
    "all_layers = sym.get_internals()\n",
    "all_layers.list_outputs()[-10:]"
   ]
  },
  {
   "cell_type": "code",
   "execution_count": 9,
   "metadata": {},
   "outputs": [],
   "source": [
    "fe_sym = all_layers['flatten0_output']\n",
    "fe_mod = mx.mod.Module(symbol=fe_sym, context=mx.cpu(), label_names=None)\n",
    "fe_mod.bind(for_training=False, data_shapes=[('data', (1,3,224,224))])\n",
    "fe_mod.set_params(arg_params, aux_params)"
   ]
  },
  {
   "cell_type": "code",
   "execution_count": 10,
   "metadata": {},
   "outputs": [
    {
     "name": "stdout",
     "output_type": "stream",
     "text": [
      "[[ 4.845196   3.4268258  7.843049   7.9837413  5.0658007 10.121918\n",
      "   6.799952   5.7677264  7.273711   5.127602   7.018298   4.811454\n",
      "   8.284684   8.654723   6.049178   8.718851   7.764751   7.7427015\n",
      "   7.589762   6.1869006  6.810075   8.739559  11.090771  12.213647\n",
      "  16.161835   3.6743853  7.5311394  4.516597   5.586503   6.4256606\n",
      "   9.150993  11.08033    9.99549    7.6564336  9.058346   8.437614\n",
      "  11.678422  10.139231  10.436383   9.725912  10.097718   6.6340404\n",
      "   9.135065  14.396064   5.0995846  6.848199   7.687456  10.579806\n",
      "   7.166281   6.6813297  8.84578   13.9824295  2.5840075  2.0861392\n",
      "   4.7771173  2.387622   4.4640617  2.0931792  4.1492095  3.3739567\n",
      "   2.5934505  6.3983226  2.8615527  3.679117   2.8022115  3.6225042\n",
      "   6.1064415  2.7667575  3.0884964 11.78726    6.608432   6.033763\n",
      "   5.073381   5.8935313  6.046323   5.0844703  5.387423   7.6845536\n",
      "   6.8027067  2.9404893  8.930441   6.3438115  6.3796887  7.5792623\n",
      "   8.03119    9.870219   7.6333404 12.44468    8.119802   9.621574\n",
      "   3.358397   3.6140702  4.1483345  4.8617816 11.099881   4.3079543\n",
      "   4.2205486  9.774784   6.3284287 10.1289835  9.8946905 11.482177\n",
      "   3.8538554  9.272848   7.2770057 11.708161   7.8940334  8.106736\n",
      "   4.5020385  5.3209476  5.2081437  6.1022744 14.6884575  9.270279\n",
      "   6.2432327  4.2880387  5.544954   6.9261284  5.4160447  5.150318\n",
      "   4.7673044  3.763063   4.9263453  6.3253427  7.6074333 10.130423\n",
      "   7.288785   5.4805036  6.4675255  8.485378   5.129994   7.4258604\n",
      "   7.4353347  3.590466   6.4729147  4.7700243  6.6219387  6.2395587\n",
      "   5.3872275  6.376878   5.3397     9.445354   8.211415   8.094117\n",
      "   6.6997447  6.2671723  6.940517   7.1804185  5.6135364  8.15461\n",
      "   8.627193   8.040804   4.817791   7.6507     5.7446833  6.24235\n",
      "   5.4535623  4.7985706  6.8864694 12.765654  10.944795  11.422361\n",
      "   9.66887   10.553361  12.756836  12.516753  10.162695   8.885161\n",
      "  11.167949  10.6697445  7.8816915 12.932454  11.787406   7.905943\n",
      "   8.890016   7.217615   7.2352905  6.6922445 18.186422  13.082643\n",
      "  14.524682  12.8055315 10.27286   13.502539   9.51844   10.3323145\n",
      "   7.200405   7.813672   9.75204   10.10233   11.672314  11.825965\n",
      "   6.192564   5.990444   7.766454  13.979975  10.263405   9.8562565\n",
      "   9.887296   8.858262   6.992211   5.4518733 10.046319   6.9043126\n",
      "   5.8783975 14.201322  14.269035  11.97979   17.83412   14.91102\n",
      "  15.213451  13.304163  11.207114   8.505998  10.624082   7.7764764\n",
      "  10.769367  11.149263   9.342644  12.505041   9.809043  12.124913\n",
      "  10.016494   9.996992   9.494458  12.168429   4.6962914 11.636132\n",
      "   5.154596   6.0373144  5.72779    7.5472627  8.177196   8.1178665\n",
      "  13.445541   8.838165  12.719237   9.729309   9.679396   5.5146246\n",
      "   7.5025907  7.8371906 16.053446  17.224628   6.2736506 13.7005415\n",
      "  18.433756   9.190207   7.977335   7.0623217  7.974448  11.986134\n",
      "   3.6333187  9.409621  15.247357   8.485857   9.596951   8.495775\n",
      "   5.6452093  5.804285   6.886363   5.9696374  7.2384534  5.949724\n",
      "   8.054901   9.521129   8.727572  10.52431    9.926821   6.970469\n",
      "   8.940513   5.81484    8.104609   7.4849715  3.5890138  6.4306912\n",
      "  10.451102   4.6901526  3.738471   6.690328   5.4650617 13.623611\n",
      "  11.910224   9.883089   7.4755487 11.688229  13.175226  10.519282\n",
      "  10.953784  10.365645  12.00768   11.274698   9.879762   8.647778\n",
      "   6.886468   8.342489   9.212728   5.7285075  8.627402   9.982737\n",
      "   3.4685817  6.890595   5.3312583  9.629296   6.165015   4.5046525\n",
      "   7.919856  10.269278   6.3451166  6.405507   8.762321   8.832809\n",
      "   6.9133096  6.433375   4.763594   5.5568886  8.382528   7.8808303\n",
      "   4.876033   3.4312146  3.831046   5.1996303  8.818607   3.497155\n",
      "   6.1207266  4.8810816  7.086764   6.5659184  7.783677   4.2706375\n",
      "   8.788089  10.99387    7.088328   7.4478054  3.3350759  9.894823\n",
      "   6.5303864  3.7457852  7.914282   6.561476   8.595825   6.35735\n",
      "   8.666942  12.312199  12.666376  12.800933  11.088604   8.159857\n",
      "  11.659798   9.475441  11.648804   4.3721175  6.369004   5.96309\n",
      "  13.344503  10.370726   6.585082   4.613259   5.171036   4.9658647\n",
      "   5.0743837  2.3796425  6.7630424 10.833879   7.1848803 10.335042\n",
      "   8.889029  10.852074   8.061057   7.9768877  6.151322   4.711142\n",
      "   4.919877   9.534743   3.8530004  4.9784455  5.9942727  7.840996\n",
      "   4.5849414  8.8302965  6.0815907  4.8980308  7.390755   7.221927\n",
      "   7.9582553 15.410346   9.160175   2.5808847  3.791449   7.1656446\n",
      "   7.470813   7.353468   7.4127636  5.7293606 11.051413   4.3697367\n",
      "   4.398179   7.92505    5.2212806  8.545234   7.491658   6.631289\n",
      "   5.858172   5.6128526  5.0964637  7.019454  13.534982   4.4371285\n",
      "   6.861101  12.161203   3.7021072  6.3449955  9.524555   7.2417417\n",
      "  12.140641  10.894892   8.037187   7.3713408  7.2103133  9.311593\n",
      "   8.025152   7.661134   4.8804293  4.5890875  6.4936876  5.483325\n",
      "   8.222907   7.4216585  8.12694    9.272983   4.6354995  7.385925\n",
      "   7.998262   5.8270016 14.16643   12.938704   3.6611493  6.233596\n",
      "   8.549057   6.411005   6.199658   7.0824113  9.870196   6.0980964\n",
      "   3.7699556  6.478814  10.508746   4.96438   13.178001   5.8914385\n",
      "   5.2199855  9.676284  13.175843   9.513127   8.422182  10.429109\n",
      "   7.132876  12.15258   14.213254   8.659351   3.9484725 11.902966\n",
      "   7.5536513 13.234404  12.440118   8.589915   5.22452    6.562687\n",
      "   6.1877017 11.12123    9.88903    9.412776   4.85349   12.0162115\n",
      "   9.176275   7.14605    9.55883    8.883367  11.471116   5.702646\n",
      "   5.1059523  9.784869   6.248893   6.4761257  3.1001444  5.2596154\n",
      "   5.012623  12.275045   8.494486   5.9324765  8.95047    8.55854\n",
      "  10.26185    7.748474  13.739463   9.720529   7.8772173  6.590167\n",
      "   8.300723  13.86728    3.6398182  9.629565   7.2671437  5.7905593\n",
      "  12.773717  11.361685   6.9571896  8.262069   8.288693   7.2014427\n",
      "   4.641514   5.0280285 11.488517   5.928239  11.532757  11.472156\n",
      "   9.285867   6.136389   8.252164   6.9842644  8.618858   6.1770544\n",
      "  11.059924   8.366789  11.18895    4.860199   8.545705   8.308449\n",
      "  11.030145  11.557808   9.009265   6.4942174  5.4457846  4.1632576\n",
      "   9.481511   4.9521127  3.9091249  6.9342003  6.2566223 11.123787\n",
      "   5.061251   7.807851   8.59556    8.118503   6.41277    9.216635\n",
      "   6.9414015  1.9570445  5.635814  13.710959   6.5718207  8.8600855\n",
      "  13.112325   7.4523854  3.5795348  4.573715  11.564784   5.53421\n",
      "   8.207588   5.3661513  8.929424   8.099244  13.319563   8.236284\n",
      "   4.5971513  3.9780884  5.514825  10.220125   8.934019   6.3548436\n",
      "  14.635796   4.688742  10.5582695  5.877641   8.395055   4.5570836\n",
      "   2.1146145 11.768412  11.959824   7.900437   2.394531   4.5458264\n",
      "   5.0947995  8.26432   10.868158   8.050098   7.371297  10.869912\n",
      "  10.851444   8.034708   5.53435    9.729316  10.661207   9.377045\n",
      "   5.517652   6.2546425 12.00096    6.9182897  7.2173624  8.85549\n",
      "  13.306303   9.587533   6.9305778  5.9942493 11.932286  11.013406\n",
      "  11.873941   5.818017  11.98832    3.946848  11.093738  12.754046\n",
      "   4.398995   9.030303  10.162645   9.669982   6.0203176 10.745777\n",
      "   8.11658   13.019476   9.857992   7.258771   8.22854   10.320859\n",
      "   7.5655856  2.0807588 11.57867    3.8241718  4.446113   5.6237397\n",
      "   5.744369   8.13391    8.214175  12.246698   6.804069   6.7999926\n",
      "  11.80052    9.088764   8.51623    6.4038687  5.361231  10.527494\n",
      "   7.7360187 15.449301  10.560477   4.926906   5.9446864  7.2588625\n",
      "   7.8920746  6.0323224  7.9319263  6.7061405  9.706409   6.437382\n",
      "   6.066329   8.945615   3.005389   6.211556   8.283263   8.306517\n",
      "   4.7732964  3.00416    7.1628456  6.6001663  7.642777   2.984704\n",
      "   6.26631    7.9125338  5.2476473  7.052516   5.5790825  1.3620547\n",
      "   4.836122   8.946865  12.398106   6.089014  14.51509    7.9687934\n",
      "  10.197407  10.525948   8.179514   8.960509   7.3213906  8.4178915\n",
      "  13.51946    5.850159   6.1011224  3.1509523 10.133992  10.007728\n",
      "   7.437094  12.702309  10.234714   4.909238   3.0907218  9.963421\n",
      "   9.986283  10.984827   5.617435   7.1086836 11.356736   6.0773487\n",
      "   6.960419   6.099754   8.693844   4.2077503  3.177757   6.744274\n",
      "  12.691504  14.672994  15.843205   9.390417   7.623225   5.8605\n",
      "  10.373573   8.111405   6.854893   4.38364    4.613333  16.409174\n",
      "   7.6697316 12.060858  11.438435   7.0152636  5.495035  14.2323\n",
      "  10.201253   4.6228876 11.280795   9.360772   8.013953   8.591907\n",
      "   7.3184314  5.927839   2.6113367  7.402679   9.876777   7.6651144\n",
      "   9.567444   5.2525806  7.360353   9.846686   7.266405   5.159009\n",
      "   7.3219595  9.062075   5.933236   6.40399   15.388145   8.159292\n",
      "   9.959419   4.8915133  7.153559  11.072685   6.280519   7.3681817\n",
      "   6.1356792  4.9130764  4.495928   8.4085     7.2744346 10.532459\n",
      "   4.959867   8.156876   6.8525586  6.8295746  7.5680413 11.977725\n",
      "   7.330538  12.074879   9.84028    9.356672   9.671066  11.979374\n",
      "   9.44057    7.1274824  8.386032   9.859643   6.999653   4.6451116\n",
      "   3.610498   4.8707743  8.617677  11.371832   9.526071   9.623806\n",
      "  13.100013   9.754152   9.03798   12.101618   6.3388805  5.7251377\n",
      "  11.529078  13.723976   9.899222   8.040674   9.406928   8.132344\n",
      "   8.141518   7.913738   4.802551   8.287255   3.9891357  4.894825\n",
      "  12.230326  13.088751   8.147089   4.7420774  6.8607364  8.491914\n",
      "   7.4194937 10.096605   9.891204  10.433218   3.0117474  5.8464394\n",
      "   7.3499227  4.7160172 13.4014845  9.84063    4.9383945  1.6912432\n",
      "   6.5745654  8.96462    8.181681   2.8364549  8.079959   7.47575\n",
      "  10.846327   5.65201    6.847424   8.999308   7.11683    2.178531\n",
      "   9.894963   9.880342   7.2321506  8.057401  10.924053   3.3849404\n",
      "   9.718045  10.374881   7.736148   4.413628  13.156817   8.456874\n",
      "  12.149978   9.2587     7.4573636 10.572064  15.118209   9.137069\n",
      "  13.02222    6.997483   4.450077  12.346793   8.082389  12.87208\n",
      "   4.151006   7.5307827  8.439344   8.034788   7.6743674 10.088973\n",
      "   1.6005156  8.285079   7.462886   3.6774247  8.951913  10.746181\n",
      "   6.391749   3.1962209  7.1596212  7.6044264  2.3826823  5.33712\n",
      "  15.4848995  3.259782   6.4107814  9.768914   5.408531   7.6887317\n",
      "   7.503845  13.736837   6.453372  12.756156   5.3510942 10.00736\n",
      "   3.3888206  5.6133437  5.8755846  7.359606  13.438113  13.236366\n",
      "   8.283616   9.058645  12.644002   8.7875595 10.051847   7.770624\n",
      "   6.202336   7.5813546 10.6363125 11.728519  12.878569  10.204018\n",
      "   7.4173603  6.24226    4.9077816  6.407815   8.303438   9.815145\n",
      "   5.359582   6.505548   2.2610216  3.5757341 11.383776  11.628405\n",
      "   6.4459124  5.306955   5.359028  14.256909   6.3805633  9.727911\n",
      "   6.7724514  9.258103   4.857599   6.42076   12.107685  13.795659\n",
      "   6.986171   5.7572317  5.7321024  3.4986622  5.751548   6.8355126\n",
      "   7.1024427  9.459723   9.115519   5.3250537  6.186454   7.2735314\n",
      "   5.7166305  5.9940524  5.9319363  6.364019   3.850652   8.015175\n",
      "   6.6029463  7.927077   9.216544   9.267658   7.5143967  9.567923\n",
      "   6.907646   6.031032   8.248142   8.57019    9.130332   6.877298\n",
      "  11.113462  11.872664   7.6320114  4.6799307  6.942851   8.1727915\n",
      "   6.457228   7.4851284 13.681313   7.8111973  5.7354774 10.8969\n",
      "   6.1264343  7.2322783  5.738362   5.2623243  6.268612   7.372737\n",
      "   6.380218   3.1526797  5.929002   6.5685024 11.980729   7.8914814\n",
      "   6.187837   4.167113   3.4578686  9.1757555 11.582641   7.3574324\n",
      "   7.092816   5.1706834  5.2953134  8.3501835  6.3411884  9.954337\n",
      "   8.324243   7.276767   7.650668  12.5122175]]\n"
     ]
    }
   ],
   "source": [
    "img = get_image('https://github.com/dmlc/web-data/blob/master/mxnet/doc/tutorials/python/predict_image/dog.jpg?raw=true')\n",
    "fe_mod.forward(Batch([mx.nd.array(img)]))\n",
    "features = fe_mod.get_outputs()[0].asnumpy()\n",
    "print(features)\n",
    "assert features.shape == (1, 1000)"
   ]
  },
  {
   "cell_type": "markdown",
   "metadata": {},
   "source": [
    "* Download the dogs versus cats *training folder* from https://www.kaggle.com/c/dogs-vs-cats-redux-kernels-edition/data (Remember the number of images is 12500 for each class)."
   ]
  },
  {
   "cell_type": "code",
   "execution_count": 11,
   "metadata": {},
   "outputs": [
    {
     "name": "stdout",
     "output_type": "stream",
     "text": [
      "Requirement already satisfied: python-slugify in /opt/conda/lib/python3.7/site-packages (5.0.2)\n",
      "Requirement already satisfied: text-unidecode>=1.3 in /opt/conda/lib/python3.7/site-packages (from python-slugify) (1.3)\n",
      "Note: you may need to restart the kernel to use updated packages.\n"
     ]
    }
   ],
   "source": [
    "pip install python-slugify"
   ]
  },
  {
   "cell_type": "code",
   "execution_count": 12,
   "metadata": {},
   "outputs": [
    {
     "name": "stdout",
     "output_type": "stream",
     "text": [
      "\n",
      "runtime16 sec\n"
     ]
    }
   ],
   "source": [
    "from subprocess import run\n",
    "from time import time\n",
    "\n",
    "start = time()\n",
    "script = f'''\n",
    "    pip install --upgrade --force-reinstall --no-deps kaggle;\n",
    "    mkdir -p ~/.kaggle;\n",
    "    cp ~/kaggle.json ~/.kaggle/;\n",
    "    chmod 600 ~/.kaggle/kaggle.json;\n",
    "    kaggle competitions download --quiet -c dogs-vs-cats-redux-kernels-edition;\n",
    "    unzip -o dogs-vs-cats-redux-kernels-edition.zip;\n",
    "    unzip -o train.zip;\n",
    "    '''\n",
    "proc = run(script,\n",
    "          shell = True,\n",
    "          text = True,\n",
    "          capture_output = True,\n",
    "          timeout = 120)\n",
    "print(proc.stderr)\n",
    "print(f'runtime{time()-start:.0f} sec')"
   ]
  },
  {
   "cell_type": "code",
   "execution_count": 13,
   "metadata": {},
   "outputs": [
    {
     "data": {
      "image/jpeg": "[encoded data removed]",
      "text/plain": [
       "<IPython.core.display.Image object>"
      ]
     },
     "metadata": {},
     "output_type": "display_data"
    }
   ],
   "source": [
    "import os\n",
    "from IPython.core.display import Image\n",
    "display(Image(f'{os.getcwd()}/train/cat.1.jpg'))"
   ]
  },
  {
   "cell_type": "code",
   "execution_count": 14,
   "metadata": {},
   "outputs": [],
   "source": [
    "from os.path import isfile, join\n",
    "mypath = join(os.getcwd(),'train')"
   ]
  },
  {
   "cell_type": "code",
   "execution_count": 15,
   "metadata": {},
   "outputs": [],
   "source": [
    "from os import listdir\n",
    "from os.path import isfile, join\n",
    "import os\n",
    "\n",
    "cats_imgs = [join(mypath,f) for f in listdir(mypath) if f.startswith('cat')]\n",
    "dogs_imgs = [join(mypath,f) for f in listdir(mypath) if f.startswith('dog')]"
   ]
  },
  {
   "cell_type": "code",
   "execution_count": 16,
   "metadata": {},
   "outputs": [
    {
     "name": "stdout",
     "output_type": "stream",
     "text": [
      "cats: 12500 and dogs: 12500\n"
     ]
    }
   ],
   "source": [
    "print(\"cats: {} and dogs: {}\".format(len(cats_imgs),len(dogs_imgs)))"
   ]
  },
  {
   "cell_type": "code",
   "execution_count": 17,
   "metadata": {},
   "outputs": [],
   "source": [
    "def get_image(url, show=False):\n",
    "    if url.startswith('http'):\n",
    "        # download and show the image\n",
    "        fname = mx.test_utils.download(url)\n",
    "    else:\n",
    "        fname = url\n",
    "    img = cv2.cvtColor(cv2.imread(fname), cv2.COLOR_BGR2RGB)\n",
    "    if img is None:\n",
    "         return None\n",
    "    if show:\n",
    "         plt.imshow(img)\n",
    "         plt.axis('off')\n",
    "    # convert into format (batch, RGB, width, height)\n",
    "    img = cv2.resize(img, (224, 224))\n",
    "    img = np.swapaxes(img, 0, 2)\n",
    "    img = np.swapaxes(img, 1, 2)\n",
    "    img = img[np.newaxis, :]\n",
    "    return img\n",
    "\n",
    "def predict(url):\n",
    "    img = get_image(url, show=True)\n",
    "    # compute the predict probabilities\n",
    "    mod.forward(Batch([mx.nd.array(img)]))\n",
    "    prob = mod.get_outputs()[0].asnumpy()\n",
    "    # print the top-5\n",
    "    prob = np.squeeze(prob)\n",
    "    a = np.argsort(prob)[::-1]\n",
    "    for i in a[0:5]:\n",
    "        print('probability=%f, class=%s' %(prob[i], labels[i]))\n"
   ]
  },
  {
   "cell_type": "code",
   "execution_count": 18,
   "metadata": {},
   "outputs": [],
   "source": [
    "def get_features(img):\n",
    "    fe_mod.forward(Batch([mx.nd.array(img)]))\n",
    "    features = fe_mod.get_outputs()[0].asnumpy()\n",
    "    return features"
   ]
  },
  {
   "cell_type": "markdown",
   "metadata": {},
   "source": [
    "* Extract the array of features for different number of images (N: 10, 100, 500, 1000, also 5000 and 12500) and for each value train your favorite binary classifier (only one!!!) using GridSearch to optimize some hyperparameters. Consider to use https://notebooks.csc.fi if you have computational limitations. "
   ]
  },
  {
   "cell_type": "markdown",
   "metadata": {},
   "source": [
    "* Report the accuracy for each value of N and the computational time during the training step."
   ]
  },
  {
   "cell_type": "code",
   "execution_count": 19,
   "metadata": {},
   "outputs": [],
   "source": [
    "Nmax = 10\n",
    "cats_features = [get_features(get_image(img)).ravel() for img in cats_imgs[:Nmax]]\n",
    "dogs_features = [get_features(get_image(img)).ravel() for img in dogs_imgs[:Nmax]]"
   ]
  },
  {
   "cell_type": "code",
   "execution_count": 20,
   "metadata": {},
   "outputs": [
    {
     "name": "stdout",
     "output_type": "stream",
     "text": [
      "Best cross-validation accuracy: 1.00\n",
      "Best set score: 1.00\n",
      "Best parameters:  {'Preprocessing': MinMaxScaler(copy=True, feature_range=(0, 1)), 'svc__C': 0.001, 'svc__gamma': 1}\n",
      "\n",
      "---Runtime: 0 seconds ---\n"
     ]
    }
   ],
   "source": [
    "from sklearn.model_selection import GridSearchCV\n",
    "from sklearn.model_selection import train_test_split\n",
    "from sklearn.svm import SVC\n",
    "from sklearn.pipeline import Pipeline\n",
    "from sklearn.preprocessing import MinMaxScaler\n",
    "\n",
    "Y_cats = np.array(Nmax * [1])\n",
    "Y_dogs = np.array(Nmax * [0])\n",
    "\n",
    "X_cvd = np.vstack([cats_features,dogs_features])\n",
    "Y_cvd = np.vstack([Y_cats,Y_dogs]).ravel()\n",
    "\n",
    "X_train, X_test, y_train, y_test = train_test_split(X_cvd, Y_cvd, random_state=42)\n",
    "\n",
    "pipe = Pipeline([('Preprocessing', MinMaxScaler()), ('svc', SVC())])\n",
    "\n",
    "start_time = time()\n",
    "param_grid = {'Preprocessing': [MinMaxScaler()], 'svc__C': [0.001, 0.1, 1, 100], 'svc__gamma': [0.01, 1, 10, 100]}\n",
    "\n",
    "grid = GridSearchCV(pipe, param_grid=param_grid, cv=5)\n",
    "grid.fit(X_cvd, Y_cvd)\n",
    "\n",
    "print(\"Best cross-validation accuracy: {:.2f}\".format(grid.best_score_))\n",
    "print(\"Best set score: {:.2f}\".format(grid.score(X_test, y_test)))\n",
    "print(\"Best parameters: \", grid.best_params_)\n",
    "print(f'\\n---Runtime: {time() - start_time:.0f} seconds ---')"
   ]
  },
  {
   "cell_type": "code",
   "execution_count": 21,
   "metadata": {},
   "outputs": [],
   "source": [
    "Nmax = 100\n",
    "cats_features = [get_features(get_image(img)).ravel() for img in cats_imgs[:Nmax]]\n",
    "dogs_features = [get_features(get_image(img)).ravel() for img in dogs_imgs[:Nmax]]"
   ]
  },
  {
   "cell_type": "code",
   "execution_count": 22,
   "metadata": {},
   "outputs": [
    {
     "name": "stdout",
     "output_type": "stream",
     "text": [
      "Best cross-validation accuracy: 0.96\n",
      "Best set score: 0.94\n",
      "Best parameters:  {'Preprocessing': MinMaxScaler(copy=True, feature_range=(0, 1)), 'svc__C': 1, 'svc__gamma': 0.01}\n",
      "\n",
      "---Runtime: 3 seconds ---\n"
     ]
    }
   ],
   "source": [
    "Y_cats = np.array(Nmax * [1])\n",
    "Y_dogs = np.array(Nmax * [0])\n",
    "\n",
    "X_cvd = np.vstack([cats_features,dogs_features])\n",
    "Y_cvd = np.vstack([Y_cats,Y_dogs]).ravel()\n",
    "\n",
    "X_train, X_test, y_train, y_test = train_test_split(X_cvd, Y_cvd, random_state=42)\n",
    "\n",
    "pipe = Pipeline([('Preprocessing', MinMaxScaler()), ('svc', SVC())])\n",
    "\n",
    "start_time = time()\n",
    "param_grid = {'Preprocessing': [MinMaxScaler()], 'svc__C': [0.001, 0.1, 1, 100], 'svc__gamma': [0.01, 1, 10, 100]}\n",
    "\n",
    "grid = GridSearchCV(pipe, param_grid=param_grid, cv=5)\n",
    "grid.fit(X_cvd, Y_cvd)\n",
    "\n",
    "print(\"Best cross-validation accuracy: {:.2f}\".format(grid.best_score_))\n",
    "print(\"Best set score: {:.2f}\".format(grid.score(X_test, y_test)))\n",
    "print(\"Best parameters: \", grid.best_params_)\n",
    "print(f'\\n---Runtime: {time() - start_time:.0f} seconds ---')"
   ]
  },
  {
   "cell_type": "code",
   "execution_count": 23,
   "metadata": {},
   "outputs": [],
   "source": [
    "Nmax = 500\n",
    "cats_features = [get_features(get_image(img)).ravel() for img in cats_imgs[:Nmax]]\n",
    "dogs_features = [get_features(get_image(img)).ravel() for img in dogs_imgs[:Nmax]]"
   ]
  },
  {
   "cell_type": "code",
   "execution_count": 24,
   "metadata": {},
   "outputs": [],
   "source": [
    "Y_cats = np.array(Nmax * [1])\n",
    "Y_dogs = np.array(Nmax * [0])\n",
    "\n",
    "X_cvd = np.vstack([cats_features,dogs_features])\n",
    "Y_cvd = np.vstack([Y_cats,Y_dogs]).ravel()\n",
    "\n",
    "X_train, X_test, y_train, y_test = train_test_split(X_cvd, Y_cvd, random_state=42)\n",
    "\n",
    "pipe = Pipeline([('Preprocessing', MinMaxScaler()), ('svc', SVC())])\n",
    "\n",
    "start_time = time()\n",
    "param_grid = {'Preprocessing': [MinMaxScaler()], 'svc__C': [0.001, 0.1, 1, 100], 'svc__gamma': [0.01, 1, 10, 100]}\n",
    "\n",
    "grid = GridSearchCV(pipe, param_grid=param_grid, cv=5)\n",
    "grid.fit(X_cvd, Y_cvd)\n",
    "\n",
    "print(\"Best cross-validation accuracy: {:.2f}\".format(grid.best_score_))\n",
    "print(\"Best set score: {:.2f}\".format(grid.score(X_test, y_test)))\n",
    "print(\"Best parameters: \", grid.best_params_)\n",
    "print(f'\\n---Runtime: {time() - start_time:.0f} seconds ---')"
   ]
  },
  {
   "cell_type": "code",
   "execution_count": 25,
   "metadata": {},
   "outputs": [],
   "source": [
    "Nmax = 1000\n",
    "cats_features = [get_features(get_image(img)).ravel() for img in cats_imgs[:Nmax]]\n",
    "dogs_features = [get_features(get_image(img)).ravel() for img in dogs_imgs[:Nmax]]"
   ]
  },
  {
   "cell_type": "code",
   "execution_count": 26,
   "metadata": {},
   "outputs": [],
   "source": [
    "Y_cats = np.array(Nmax * [1])\n",
    "Y_dogs = np.array(Nmax * [0])\n",
    "\n",
    "X_cvd = np.vstack([cats_features,dogs_features])\n",
    "Y_cvd = np.vstack([Y_cats,Y_dogs]).ravel()\n",
    "\n",
    "X_train, X_test, y_train, y_test = train_test_split(X_cvd, Y_cvd, random_state=42)\n",
    "\n",
    "pipe = Pipeline([('Preprocessing', MinMaxScaler()), ('svc', SVC())])\n",
    "\n",
    "start_time = time()\n",
    "param_grid = {'Preprocessing': [MinMaxScaler()], 'svc__C': [0.001, 0.1, 1, 100], 'svc__gamma': [0.01, 1, 10, 100]}\n",
    "\n",
    "grid = GridSearchCV(pipe, param_grid=param_grid, cv=5)\n",
    "grid.fit(X_cvd, Y_cvd)\n",
    "\n",
    "print(\"Best cross-validation accuracy: {:.2f}\".format(grid.best_score_))\n",
    "print(\"Best set score: {:.2f}\".format(grid.score(X_test, y_test)))\n",
    "print(\"Best parameters: \", grid.best_params_)\n",
    "print(f'\\n---Runtime: {time() - start_time:.0f} seconds ---')"
   ]
  },
  {
   "cell_type": "code",
   "execution_count": 27,
   "metadata": {},
   "outputs": [],
   "source": [
    "Nmax = 5000\n",
    "cats_features = [get_features(get_image(img)).ravel() for img in cats_imgs[:Nmax]]\n",
    "dogs_features = [get_features(get_image(img)).ravel() for img in dogs_imgs[:Nmax]]"
   ]
  },
  {
   "cell_type": "code",
   "execution_count": 28,
   "metadata": {},
   "outputs": [],
   "source": [
    "Y_cats = np.array(Nmax * [1])\n",
    "Y_dogs = np.array(Nmax * [0])\n",
    "\n",
    "X_cvd = np.vstack([cats_features,dogs_features])\n",
    "Y_cvd = np.vstack([Y_cats,Y_dogs]).ravel()\n",
    "\n",
    "X_train, X_test, y_train, y_test = train_test_split(X_cvd, Y_cvd, random_state=42)\n",
    "\n",
    "pipe = Pipeline([('Preprocessing', MinMaxScaler()), ('svc', SVC())])\n",
    "\n",
    "start_time = time()\n",
    "param_grid = {'Preprocessing': [MinMaxScaler()], 'svc__C': [0.001, 0.1, 1, 100], 'svc__gamma': [0.01, 1, 10, 100]}\n",
    "\n",
    "grid = GridSearchCV(pipe, param_grid=param_grid, cv=5)\n",
    "grid.fit(X_cvd, Y_cvd)\n",
    "\n",
    "print(\"Best cross-validation accuracy: {:.2f}\".format(grid.best_score_))\n",
    "print(\"Best set score: {:.2f}\".format(grid.score(X_test, y_test)))\n",
    "print(\"Best parameters: \", grid.best_params_)\n",
    "print(f'\\n---Runtime: {time() - start_time:.0f} seconds ---')"
   ]
  },
  {
   "cell_type": "code",
   "execution_count": 29,
   "metadata": {},
   "outputs": [],
   "source": [
    "Nmax = 12500\n",
    "cats_features = [get_features(get_image(img)).ravel() for img in cats_imgs[:Nmax]]\n",
    "dogs_features = [get_features(get_image(img)).ravel() for img in dogs_imgs[:Nmax]]"
   ]
  },
  {
   "cell_type": "code",
   "execution_count": 30,
   "metadata": {},
   "outputs": [],
   "source": [
    "Y_cats = np.array(Nmax * [1])\n",
    "Y_dogs = np.array(Nmax * [0])\n",
    "\n",
    "X_cvd = np.vstack([cats_features,dogs_features])\n",
    "Y_cvd = np.vstack([Y_cats,Y_dogs]).ravel()\n",
    "\n",
    "X_train, X_test, y_train, y_test = train_test_split(X_cvd, Y_cvd, random_state=42)\n",
    "\n",
    "pipe = Pipeline([('Preprocessing', MinMaxScaler()), ('svc', SVC())])\n",
    "\n",
    "start_time = time()\n",
    "param_grid = {'Preprocessing': [MinMaxScaler()], 'svc__C': [0.001, 0.1, 1, 100], 'svc__gamma': [0.01, 1, 10, 100]}\n",
    "\n",
    "grid = GridSearchCV(pipe, param_grid=param_grid, cv=5)\n",
    "grid.fit(X_cvd, Y_cvd)\n",
    "\n",
    "print(\"Best cross-validation accuracy: {:.2f}\".format(grid.best_score_))\n",
    "print(\"Best set score: {:.2f}\".format(grid.score(X_test, y_test)))\n",
    "print(\"Best parameters: \", grid.best_params_)\n",
    "print(f'\\n---Runtime: {time() - start_time:.0f} seconds ---')"
   ]
  },
  {
   "cell_type": "markdown",
   "metadata": {},
   "source": [
    "#### Task 2 (5 points):"
   ]
  },
  {
   "cell_type": "markdown",
   "metadata": {},
   "source": [
    "Repeat all previous steps using MobileNet V2 (https://github.com/KeyKy/mobilenet-mxnet). How the two networks compare in terms of accuracy and running time?"
   ]
  },
  {
   "cell_type": "code",
   "execution_count": 31,
   "metadata": {},
   "outputs": [
    {
     "data": {
      "text/plain": [
       "['mobilenet_v2-symbol.json', 'mobilenet_v2-0000.params']"
      ]
     },
     "execution_count": 31,
     "metadata": {},
     "output_type": "execute_result"
    }
   ],
   "source": [
    "path='https://github.com/KeyKy/mobilenet-mxnet'\n",
    "[mx.test_utils.download(path+'/blob/master/mobilenet_v2-symbol.json'),\n",
    " mx.test_utils.download(path+'/blob/master/mobilenet_v2-0000.params')]"
   ]
  },
  {
   "cell_type": "code",
   "execution_count": 32,
   "metadata": {},
   "outputs": [
    {
     "name": "stdout",
     "output_type": "stream",
     "text": [
      "-rw-r--r--. 1 jovyan root  14178924 Nov 15 11:12 mobilenet_v2-0000.params\n",
      "-rw-r--r--. 1 jovyan root    108565 Nov 15 12:34 mobilenet_v2-symbol.json\n",
      "\n"
     ]
    }
   ],
   "source": [
    "import os \n",
    "from subprocess import run\n",
    "script = f'ls -l {os.getcwd()} | grep mobilenet_v2'\n",
    "print(run(script, shell = True, text = True, capture_output = True).stdout)"
   ]
  },
  {
   "cell_type": "code",
   "execution_count": 33,
   "metadata": {},
   "outputs": [],
   "source": [
    "# ! wget https://github.com/KeyKy/mobilenet-mxnet/raw/master/mobilenet_v2-0000.params\n",
    "# ! wget https://github.com/KeyKy/mobilenet-mxnet/raw/master/mobilenet_v2-symbol.json"
   ]
  },
  {
   "cell_type": "code",
   "execution_count": 34,
   "metadata": {},
   "outputs": [],
   "source": [
    "sym, arg_params, aux_params = mx.model.load_checkpoint(\"mobilenet_v2\", 0)\n",
    "mod = mx.mod.Module(symbol=sym, context=mx.cpu(), label_names=None)\n",
    "mod.bind(for_training=False, data_shapes=[('data', (1,3,224,224))], \n",
    "         label_shapes=mod._label_shapes)\n",
    "mod.set_params(arg_params, aux_params, allow_missing=True)"
   ]
  },
  {
   "cell_type": "code",
   "execution_count": 35,
   "metadata": {},
   "outputs": [
    {
     "data": {
      "text/plain": [
       "['conv6_4_bn_moving_var',\n",
       " 'conv6_4_bn_output',\n",
       " 'relu6_4_output',\n",
       " 'pool6_output',\n",
       " 'fc7_weight',\n",
       " 'fc7_bias',\n",
       " 'fc7_output',\n",
       " 'fc7_flatten_output',\n",
       " 'prob_label',\n",
       " 'prob_output']"
      ]
     },
     "execution_count": 35,
     "metadata": {},
     "output_type": "execute_result"
    }
   ],
   "source": [
    "# list the last 10 layers\n",
    "all_layers = sym.get_internals()\n",
    "all_layers.list_outputs()[-10:]"
   ]
  },
  {
   "cell_type": "code",
   "execution_count": 38,
   "metadata": {},
   "outputs": [],
   "source": [
    "fe_sym = all_layers['fc7_flatten_output']\n",
    "fe_mod = mx.mod.Module(symbol=fe_sym, context=mx.cpu(), label_names=None)\n",
    "fe_mod.bind(for_training=False, data_shapes=[('data', (1,3,224,224))])\n",
    "fe_mod.set_params(arg_params, aux_params)"
   ]
  },
  {
   "cell_type": "code",
   "execution_count": 39,
   "metadata": {},
   "outputs": [],
   "source": [
    "Nmax = 10\n",
    "cats_features = [get_features(get_image(img)).ravel() for img in cats_imgs[:Nmax]]\n",
    "dogs_features = [get_features(get_image(img)).ravel() for img in dogs_imgs[:Nmax]]"
   ]
  },
  {
   "cell_type": "code",
   "execution_count": 40,
   "metadata": {},
   "outputs": [
    {
     "name": "stdout",
     "output_type": "stream",
     "text": [
      "Best cross-validation accuracy: 0.65\n",
      "Best set score: 0.80\n",
      "Best parameters:  {'Preprocessing': MinMaxScaler(copy=True, feature_range=(0, 1)), 'svc__C': 0.001, 'svc__gamma': 0.01}\n",
      "\n",
      "---Runtime: 0 seconds ---\n"
     ]
    }
   ],
   "source": [
    "from sklearn.model_selection import GridSearchCV\n",
    "from sklearn.model_selection import train_test_split\n",
    "from sklearn.svm import SVC\n",
    "from sklearn.pipeline import Pipeline\n",
    "from sklearn.preprocessing import MinMaxScaler\n",
    "\n",
    "Y_cats = np.array(Nmax * [1])\n",
    "Y_dogs = np.array(Nmax * [0])\n",
    "\n",
    "X_cvd = np.vstack([cats_features,dogs_features])\n",
    "Y_cvd = np.vstack([Y_cats,Y_dogs]).ravel()\n",
    "\n",
    "X_train, X_test, y_train, y_test = train_test_split(X_cvd, Y_cvd, random_state=42)\n",
    "\n",
    "pipe = Pipeline([('Preprocessing', MinMaxScaler()), ('svc', SVC())])\n",
    "\n",
    "start_time = time()\n",
    "param_grid = {'Preprocessing': [MinMaxScaler()], 'svc__C': [0.001, 0.1, 1, 100], 'svc__gamma': [0.01, 1, 10, 100]}\n",
    "\n",
    "grid = GridSearchCV(pipe, param_grid=param_grid, cv=5)\n",
    "grid.fit(X_cvd, Y_cvd)\n",
    "\n",
    "print(\"Best cross-validation accuracy: {:.2f}\".format(grid.best_score_))\n",
    "print(\"Best set score: {:.2f}\".format(grid.score(X_test, y_test)))\n",
    "print(\"Best parameters: \", grid.best_params_)\n",
    "print(f'\\n---Runtime: {time() - start_time:.0f} seconds ---')"
   ]
  },
  {
   "cell_type": "code",
   "execution_count": 41,
   "metadata": {},
   "outputs": [],
   "source": [
    "Nmax = 100\n",
    "cats_features = [get_features(get_image(img)).ravel() for img in cats_imgs[:Nmax]]\n",
    "dogs_features = [get_features(get_image(img)).ravel() for img in dogs_imgs[:Nmax]]"
   ]
  },
  {
   "cell_type": "code",
   "execution_count": 42,
   "metadata": {},
   "outputs": [
    {
     "name": "stdout",
     "output_type": "stream",
     "text": [
      "Best cross-validation accuracy: 0.59\n",
      "Best set score: 0.70\n",
      "Best parameters:  {'Preprocessing': MinMaxScaler(copy=True, feature_range=(0, 1)), 'svc__C': 1, 'svc__gamma': 0.01}\n",
      "\n",
      "---Runtime: 4 seconds ---\n"
     ]
    }
   ],
   "source": [
    "Y_cats = np.array(Nmax * [1])\n",
    "Y_dogs = np.array(Nmax * [0])\n",
    "\n",
    "X_cvd = np.vstack([cats_features,dogs_features])\n",
    "Y_cvd = np.vstack([Y_cats,Y_dogs]).ravel()\n",
    "\n",
    "X_train, X_test, y_train, y_test = train_test_split(X_cvd, Y_cvd, random_state=42)\n",
    "\n",
    "pipe = Pipeline([('Preprocessing', MinMaxScaler()), ('svc', SVC())])\n",
    "\n",
    "start_time = time()\n",
    "param_grid = {'Preprocessing': [MinMaxScaler()], 'svc__C': [0.001, 0.1, 1, 100], 'svc__gamma': [0.01, 1, 10, 100]}\n",
    "\n",
    "grid = GridSearchCV(pipe, param_grid=param_grid, cv=5)\n",
    "grid.fit(X_cvd, Y_cvd)\n",
    "\n",
    "print(\"Best cross-validation accuracy: {:.2f}\".format(grid.best_score_))\n",
    "print(\"Best set score: {:.2f}\".format(grid.score(X_test, y_test)))\n",
    "print(\"Best parameters: \", grid.best_params_)\n",
    "print(f'\\n---Runtime: {time() - start_time:.0f} seconds ---')"
   ]
  },
  {
   "cell_type": "code",
   "execution_count": 43,
   "metadata": {},
   "outputs": [],
   "source": [
    "Nmax = 500\n",
    "cats_features = [get_features(get_image(img)).ravel() for img in cats_imgs[:Nmax]]\n",
    "dogs_features = [get_features(get_image(img)).ravel() for img in dogs_imgs[:Nmax]]"
   ]
  },
  {
   "cell_type": "code",
   "execution_count": 44,
   "metadata": {},
   "outputs": [
    {
     "name": "stdout",
     "output_type": "stream",
     "text": [
      "Best cross-validation accuracy: 0.60\n",
      "Best set score: 0.80\n",
      "Best parameters:  {'Preprocessing': MinMaxScaler(copy=True, feature_range=(0, 1)), 'svc__C': 100, 'svc__gamma': 0.01}\n",
      "\n",
      "---Runtime: 80 seconds ---\n"
     ]
    }
   ],
   "source": [
    "Y_cats = np.array(Nmax * [1])\n",
    "Y_dogs = np.array(Nmax * [0])\n",
    "\n",
    "X_cvd = np.vstack([cats_features,dogs_features])\n",
    "Y_cvd = np.vstack([Y_cats,Y_dogs]).ravel()\n",
    "\n",
    "X_train, X_test, y_train, y_test = train_test_split(X_cvd, Y_cvd, random_state=42)\n",
    "\n",
    "pipe = Pipeline([('Preprocessing', MinMaxScaler()), ('svc', SVC())])\n",
    "\n",
    "start_time = time()\n",
    "param_grid = {'Preprocessing': [MinMaxScaler()], 'svc__C': [0.001, 0.1, 1, 100], 'svc__gamma': [0.01, 1, 10, 100]}\n",
    "\n",
    "grid = GridSearchCV(pipe, param_grid=param_grid, cv=5)\n",
    "grid.fit(X_cvd, Y_cvd)\n",
    "\n",
    "print(\"Best cross-validation accuracy: {:.2f}\".format(grid.best_score_))\n",
    "print(\"Best set score: {:.2f}\".format(grid.score(X_test, y_test)))\n",
    "print(\"Best parameters: \", grid.best_params_)\n",
    "print(f'\\n---Runtime: {time() - start_time:.0f} seconds ---')"
   ]
  },
  {
   "cell_type": "code",
   "execution_count": null,
   "metadata": {},
   "outputs": [],
   "source": [
    "Nmax = 1000\n",
    "cats_features = [get_features(get_image(img)).ravel() for img in cats_imgs[:Nmax]]\n",
    "dogs_features = [get_features(get_image(img)).ravel() for img in dogs_imgs[:Nmax]]"
   ]
  },
  {
   "cell_type": "code",
   "execution_count": null,
   "metadata": {},
   "outputs": [],
   "source": [
    "Y_cats = np.array(Nmax * [1])\n",
    "Y_dogs = np.array(Nmax * [0])\n",
    "\n",
    "X_cvd = np.vstack([cats_features,dogs_features])\n",
    "Y_cvd = np.vstack([Y_cats,Y_dogs]).ravel()\n",
    "\n",
    "X_train, X_test, y_train, y_test = train_test_split(X_cvd, Y_cvd, random_state=42)\n",
    "\n",
    "pipe = Pipeline([('Preprocessing', MinMaxScaler()), ('svc', SVC())])\n",
    "\n",
    "start_time = time()\n",
    "param_grid = {'Preprocessing': [MinMaxScaler()], 'svc__C': [0.001, 0.1, 1, 100], 'svc__gamma': [0.01, 1, 10, 100]}\n",
    "\n",
    "grid = GridSearchCV(pipe, param_grid=param_grid, cv=5)\n",
    "grid.fit(X_cvd, Y_cvd)\n",
    "\n",
    "print(\"Best cross-validation accuracy: {:.2f}\".format(grid.best_score_))\n",
    "print(\"Best set score: {:.2f}\".format(grid.score(X_test, y_test)))\n",
    "print(\"Best parameters: \", grid.best_params_)\n",
    "print(f'\\n---Runtime: {time() - start_time:.0f} seconds ---')"
   ]
  },
  {
   "cell_type": "code",
   "execution_count": null,
   "metadata": {},
   "outputs": [],
   "source": [
    "Nmax = 5000\n",
    "cats_features = [get_features(get_image(img)).ravel() for img in cats_imgs[:Nmax]]\n",
    "dogs_features = [get_features(get_image(img)).ravel() for img in dogs_imgs[:Nmax]]"
   ]
  },
  {
   "cell_type": "code",
   "execution_count": null,
   "metadata": {},
   "outputs": [],
   "source": [
    "Y_cats = np.array(Nmax * [1])\n",
    "Y_dogs = np.array(Nmax * [0])\n",
    "\n",
    "X_cvd = np.vstack([cats_features,dogs_features])\n",
    "Y_cvd = np.vstack([Y_cats,Y_dogs]).ravel()\n",
    "\n",
    "X_train, X_test, y_train, y_test = train_test_split(X_cvd, Y_cvd, random_state=42)\n",
    "\n",
    "pipe = Pipeline([('Preprocessing', MinMaxScaler()), ('svc', SVC())])\n",
    "\n",
    "start_time = time()\n",
    "param_grid = {'Preprocessing': [MinMaxScaler()], 'svc__C': [0.001, 0.1, 1, 100], 'svc__gamma': [0.01, 1, 10, 100]}\n",
    "\n",
    "grid = GridSearchCV(pipe, param_grid=param_grid, cv=5)\n",
    "grid.fit(X_cvd, Y_cvd)\n",
    "\n",
    "print(\"Best cross-validation accuracy: {:.2f}\".format(grid.best_score_))\n",
    "print(\"Best set score: {:.2f}\".format(grid.score(X_test, y_test)))\n",
    "print(\"Best parameters: \", grid.best_params_)\n",
    "print(f'\\n---Runtime: {time() - start_time:.0f} seconds ---')"
   ]
  },
  {
   "cell_type": "code",
   "execution_count": null,
   "metadata": {},
   "outputs": [],
   "source": [
    "Nmax = 12500\n",
    "cats_features = [get_features(get_image(img)).ravel() for img in cats_imgs[:Nmax]]\n",
    "dogs_features = [get_features(get_image(img)).ravel() for img in dogs_imgs[:Nmax]]"
   ]
  },
  {
   "cell_type": "code",
   "execution_count": null,
   "metadata": {},
   "outputs": [],
   "source": [
    "Y_cats = np.array(Nmax * [1])\n",
    "Y_dogs = np.array(Nmax * [0])\n",
    "\n",
    "X_cvd = np.vstack([cats_features,dogs_features])\n",
    "Y_cvd = np.vstack([Y_cats,Y_dogs]).ravel()\n",
    "\n",
    "X_train, X_test, y_train, y_test = train_test_split(X_cvd, Y_cvd, random_state=42)\n",
    "\n",
    "pipe = Pipeline([('Preprocessing', MinMaxScaler()), ('svc', SVC())])\n",
    "\n",
    "start_time = time()\n",
    "param_grid = {'Preprocessing': [MinMaxScaler()], 'svc__C': [0.001, 0.1, 1, 100], 'svc__gamma': [0.01, 1, 10, 100]}\n",
    "\n",
    "grid = GridSearchCV(pipe, param_grid=param_grid, cv=5)\n",
    "grid.fit(X_cvd, Y_cvd)\n",
    "\n",
    "print(\"Best cross-validation accuracy: {:.2f}\".format(grid.best_score_))\n",
    "print(\"Best set score: {:.2f}\".format(grid.score(X_test, y_test)))\n",
    "print(\"Best parameters: \", grid.best_params_)\n",
    "print(f'\\n---Runtime: {time() - start_time:.0f} seconds ---')"
   ]
  },
  {
   "cell_type": "markdown",
   "metadata": {},
   "source": [
    "SqueezeNet is better in terms of both accuracy and running time."
   ]
  },
  {
   "cell_type": "markdown",
   "metadata": {},
   "source": [
    "#### Task 3 (5 points):"
   ]
  },
  {
   "cell_type": "markdown",
   "metadata": {},
   "source": [
    "Using the best network. Train a machine learning model able to predic COVID-19 from chest X-Ray images. Use the data from https://www.kaggle.com/praveengovi/coronahack-chest-xraydataset. \n",
    "\n",
    "Present and discuss your best model."
   ]
  },
  {
   "cell_type": "markdown",
   "metadata": {},
   "source": [
    "Type Markdown and LaTeX:  𝛼2"
   ]
  },
  {
   "cell_type": "code",
   "execution_count": 57,
   "metadata": {},
   "outputs": [
    {
     "name": "stdout",
     "output_type": "stream",
     "text": [
      "Collecting opendatasets\n",
      "  Downloading opendatasets-0.1.20-py3-none-any.whl (14 kB)\n",
      "Collecting click\n",
      "  Downloading click-8.0.3-py3-none-any.whl (97 kB)\n",
      "\u001b[K     |████████████████████████████████| 97 kB 3.2 MB/s eta 0:00:011\n",
      "\u001b[?25hRequirement already satisfied: kaggle in /opt/conda/lib/python3.7/site-packages (from opendatasets) (1.5.12)\n",
      "Requirement already satisfied: tqdm in /opt/conda/lib/python3.7/site-packages (from opendatasets) (4.43.0)\n",
      "Requirement already satisfied: importlib-metadata; python_version < \"3.8\" in /opt/conda/lib/python3.7/site-packages (from click->opendatasets) (1.5.0)\n",
      "Requirement already satisfied: certifi in /opt/conda/lib/python3.7/site-packages (from kaggle->opendatasets) (2019.11.28)\n",
      "Requirement already satisfied: python-dateutil in /opt/conda/lib/python3.7/site-packages (from kaggle->opendatasets) (2.8.1)\n",
      "Requirement already satisfied: urllib3 in /opt/conda/lib/python3.7/site-packages (from kaggle->opendatasets) (1.25.7)\n",
      "Requirement already satisfied: six>=1.10 in /opt/conda/lib/python3.7/site-packages (from kaggle->opendatasets) (1.14.0)\n",
      "Requirement already satisfied: python-slugify in /opt/conda/lib/python3.7/site-packages (from kaggle->opendatasets) (5.0.2)\n",
      "Requirement already satisfied: requests in /opt/conda/lib/python3.7/site-packages (from kaggle->opendatasets) (2.23.0)\n",
      "Requirement already satisfied: zipp>=0.5 in /opt/conda/lib/python3.7/site-packages (from importlib-metadata; python_version < \"3.8\"->click->opendatasets) (3.1.0)\n",
      "Requirement already satisfied: text-unidecode>=1.3 in /opt/conda/lib/python3.7/site-packages (from python-slugify->kaggle->opendatasets) (1.3)\n",
      "Requirement already satisfied: idna<3,>=2.5 in /opt/conda/lib/python3.7/site-packages (from requests->kaggle->opendatasets) (2.9)\n",
      "Requirement already satisfied: chardet<4,>=3.0.2 in /opt/conda/lib/python3.7/site-packages (from requests->kaggle->opendatasets) (3.0.4)\n",
      "Installing collected packages: click, opendatasets\n",
      "Successfully installed click-8.0.3 opendatasets-0.1.20\n"
     ]
    },
    {
     "name": "stderr",
     "output_type": "stream",
     "text": [
      "  0%|          | 1.00M/1.19G [00:00<03:46, 5.62MB/s]"
     ]
    },
    {
     "name": "stdout",
     "output_type": "stream",
     "text": [
      "Downloading coronahack-chest-xraydataset.zip to ./coronahack-chest-xraydataset\n"
     ]
    },
    {
     "name": "stderr",
     "output_type": "stream",
     "text": [
      "100%|██████████| 1.19G/1.19G [00:20<00:00, 62.5MB/s]\n"
     ]
    },
    {
     "name": "stdout",
     "output_type": "stream",
     "text": [
      "\n"
     ]
    }
   ],
   "source": [
    "! pip install opendatasets\n",
    "import opendatasets as od\n",
    "od.download('https://www.kaggle.com/praveengovi/coronahack-chest-xraydataset?select=Chest_xray_Corona_Metadata.csv')"
   ]
  },
  {
   "cell_type": "code",
   "execution_count": 58,
   "metadata": {},
   "outputs": [],
   "source": [
    "from os import listdir\n",
    "from os.path import isfile, join\n",
    "import os\n",
    "\n",
    "mypath = join(os.getcwd(),'train')"
   ]
  },
  {
   "cell_type": "code",
   "execution_count": 59,
   "metadata": {},
   "outputs": [],
   "source": [
    "sym, arg_params, aux_params = mx.model.load_checkpoint('model', 0)\n",
    "mod = mx.mod.Module(symbol=sym, context=mx.cpu(), label_names=None)\n",
    "mod.bind(for_training=False, data_shapes=[('data', (1,3,224,224))], \n",
    "         label_shapes=mod._label_shapes)\n",
    "mod.set_params(arg_params, aux_params, allow_missing=True)"
   ]
  },
  {
   "cell_type": "code",
   "execution_count": 61,
   "metadata": {},
   "outputs": [
    {
     "data": {
      "text/plain": [
       "['fire9_concat_output',\n",
       " 'dropout0_output',\n",
       " 'conv10_conv_weight',\n",
       " 'conv10_conv_bias',\n",
       " 'conv10_conv_output',\n",
       " 'conv10_relu_output',\n",
       " 'pool10_output',\n",
       " 'flatten0_output',\n",
       " 'softmax_label',\n",
       " 'softmax_output']"
      ]
     },
     "execution_count": 61,
     "metadata": {},
     "output_type": "execute_result"
    }
   ],
   "source": [
    "# list the last 10 layers\n",
    "all_layers = sym.get_internals()\n",
    "all_layers.list_outputs()[-10:]"
   ]
  },
  {
   "cell_type": "code",
   "execution_count": 62,
   "metadata": {},
   "outputs": [],
   "source": [
    "fe_sym = all_layers['flatten0_output']\n",
    "fe_mod = mx.mod.Module(symbol=fe_sym, context=mx.cpu(), label_names=None)\n",
    "fe_mod.bind(for_training=False, data_shapes=[('data', (1,3,224,224))])\n",
    "fe_mod.set_params(arg_params, aux_params)"
   ]
  },
  {
   "cell_type": "code",
   "execution_count": 66,
   "metadata": {},
   "outputs": [],
   "source": [
    "from os import listdir\n",
    "from os.path import isfile, join\n",
    "import os\n",
    "\n",
    "imgs = [join(mypath,f) for f in listdir(mypath)]"
   ]
  },
  {
   "cell_type": "code",
   "execution_count": 71,
   "metadata": {},
   "outputs": [
    {
     "name": "stdout",
     "output_type": "stream",
     "text": [
      "Number of Images: 25000\n"
     ]
    }
   ],
   "source": [
    "print(\"Number of Images: {}\".format(len(imgs)))"
   ]
  }
 ],
 "metadata": {
  "kernelspec": {
   "display_name": "Python 3",
   "language": "python",
   "name": "python3"
  },
  "language_info": {
   "codemirror_mode": {
    "name": "ipython",
    "version": 3
   },
   "file_extension": ".py",
   "mimetype": "text/x-python",
   "name": "python",
   "nbconvert_exporter": "python",
   "pygments_lexer": "ipython3",
   "version": "3.7.6"
  }
 },
 "nbformat": 4,
 "nbformat_minor": 4
}
